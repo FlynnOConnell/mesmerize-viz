{
 "cells": [
  {
   "cell_type": "code",
   "execution_count": 1,
   "id": "c0e29f1f-a33b-45ab-877a-29291bb5fd01",
   "metadata": {
    "tags": []
   },
   "outputs": [
    {
     "name": "stderr",
     "output_type": "stream",
     "text": [
      "2023-06-11 07:34:01.073007: I tensorflow/tsl/cuda/cudart_stub.cc:28] Could not find cuda drivers on your machine, GPU will not be used.\n",
      "2023-06-11 07:34:01.095009: I tensorflow/tsl/cuda/cudart_stub.cc:28] Could not find cuda drivers on your machine, GPU will not be used.\n",
      "2023-06-11 07:34:01.095386: I tensorflow/core/platform/cpu_feature_guard.cc:182] This TensorFlow binary is optimized to use available CPU instructions in performance-critical operations.\n",
      "To enable the following instructions: AVX2 FMA, in other operations, rebuild TensorFlow with the appropriate compiler flags.\n",
      "2023-06-11 07:34:01.605728: W tensorflow/compiler/tf2tensorrt/utils/py_utils.cc:38] TF-TRT Warning: Could not find TensorRT\n",
      "/home/kushal/repos/mesmerize-viz/mesmerize_viz/_mcorr.py:336: UserWarning: registration of accessor <class 'mesmerize_viz._mcorr.MCorrExtensionsViz'> under name 'mcorr' for type <class 'pandas.core.series.Series'> is overriding a preexisting attribute with the same name.\n",
      "  @pd.api.extensions.register_series_accessor(\"mcorr\")\n"
     ]
    }
   ],
   "source": [
    "from mesmerize_core import *\n",
    "from mesmerize_viz import *"
   ]
  },
  {
   "cell_type": "code",
   "execution_count": 2,
   "id": "326b9f89-7bcd-4b76-be74-9d1d84b96ca2",
   "metadata": {
    "tags": []
   },
   "outputs": [],
   "source": [
    "set_parent_raw_data_path(\"/home/kushal/caiman_data/\")\n",
    "\n",
    "batch_path = \"/home/kushal/caiman_data/mesmerize-batch/batch.pickle\"\n",
    "\n",
    "df = load_batch(batch_path)"
   ]
  },
  {
   "cell_type": "code",
   "execution_count": 3,
   "id": "e95b0266-5056-48d0-9410-df0d6fdb151e",
   "metadata": {
    "tags": []
   },
   "outputs": [
    {
     "name": "stderr",
     "output_type": "stream",
     "text": [
      "/home/kushal/venvs/mescore/lib/python3.11/site-packages/ipydatagrid/datagrid.py:445: UserWarning: Index name of 'index' is not round-trippable.\n",
      "  schema = pd.io.json.build_table_schema(dataframe)\n"
     ]
    },
    {
     "data": {
      "application/vnd.jupyter.widget-view+json": {
       "model_id": "cb892b243f1e4ff1b8d3bea0fe890e9c",
       "version_major": 2,
       "version_minor": 0
      },
      "text/plain": [
       "RFBOutputContext()"
      ]
     },
     "metadata": {},
     "output_type": "display_data"
    },
    {
     "data": {
      "application/vnd.jupyter.widget-view+json": {
       "model_id": "8836f855be97406d8f2246bd5a1e932f",
       "version_major": 2,
       "version_minor": 0
      },
      "text/plain": [
       "RFBOutputContext()"
      ]
     },
     "metadata": {},
     "output_type": "display_data"
    },
    {
     "name": "stdout",
     "output_type": "stream",
     "text": [
      "Decode mmap filename /home/kushal/caiman_data/mesmerize-batch/b3503ab5-6376-4cd4-8c33-7f80735fca82/b3503ab5-6376-4cd4-8c33-7f80735fca82-Sue_2x_3000_40_-46_els__d1_170_d2_170_d3_1_order_F_frames_3000.mmap\n",
      "Decode mmap filename /home/kushal/caiman_data/mesmerize-batch/b3503ab5-6376-4cd4-8c33-7f80735fca82/b3503ab5-6376-4cd4-8c33-7f80735fca82-Sue_2x_3000_40_-46_els__d1_170_d2_170_d3_1_order_F_frames_3000.mmap\n"
     ]
    },
    {
     "name": "stderr",
     "output_type": "stream",
     "text": [
      "/home/kushal/repos/fastplotlib/fastplotlib/graphics/features/_base.py:34: UserWarning: converting float64 array to float32\n",
      "  warn(f\"converting {array.dtype} array to float32\")\n",
      "/home/kushal/repos/fastplotlib/fastplotlib/graphics/features/_base.py:123: UserWarning: Event handler <bound method GridPlotWrapper.set_frame_index of <mesmerize_viz._cnmf.GridPlotWrapper object at 0x7f10e7ca0190>> is already registered.\n",
      "  warn(f\"Event handler {handler} is already registered.\")\n",
      "/home/kushal/repos/fastplotlib/fastplotlib/graphics/features/_base.py:123: UserWarning: Event handler <bound method Interaction._event_handler of 'contours': LineCollection @ 0x7f10d8284590\n",
      "Collection of <155> Graphics> is already registered.\n",
      "  warn(f\"Event handler {handler} is already registered.\")\n",
      "/home/kushal/repos/fastplotlib/fastplotlib/graphics/features/_base.py:123: UserWarning: Event handler <bound method Interaction._event_handler of 'contours': LineCollection @ 0x7f10c444c590\n",
      "Collection of <155> Graphics> is already registered.\n",
      "  warn(f\"Event handler {handler} is already registered.\")\n",
      "/home/kushal/repos/fastplotlib/fastplotlib/graphics/features/_base.py:123: UserWarning: Event handler <bound method Interaction._event_handler of 'contours': LineCollection @ 0x7f10c41bc590\n",
      "Collection of <155> Graphics> is already registered.\n",
      "  warn(f\"Event handler {handler} is already registered.\")\n",
      "/home/kushal/repos/fastplotlib/fastplotlib/graphics/features/_base.py:123: UserWarning: Event handler <bound method Interaction._event_handler of 'contours': LineCollection @ 0x7f10a453c590\n",
      "Collection of <155> Graphics> is already registered.\n",
      "  warn(f\"Event handler {handler} is already registered.\")\n",
      "/home/kushal/repos/mesmerize-viz/mesmerize_viz/_cnmf.py:854: FutureWarning: You are trying to use the following experimental feature, this may change in the future without warning:\n",
      "CaimanDataFrameExtensions.get_params_diffs\n",
      "This feature is new and the might improve in the future\n",
      "\n",
      "  param_diffs = self._dataframe.caiman.get_params_diffs(\n"
     ]
    }
   ],
   "source": [
    "container_widget = df.cnmf.viz(start_index=1)"
   ]
  },
  {
   "cell_type": "code",
   "execution_count": 4,
   "id": "96636ad0-cde7-437d-a1ce-609287f6d005",
   "metadata": {
    "tags": []
   },
   "outputs": [
    {
     "data": {
      "application/vnd.jupyter.widget-view+json": {
       "model_id": "19a4952086494afa9089e11a1bf2eace",
       "version_major": 2,
       "version_minor": 0
      },
      "text/plain": [
       "VBox(children=(HBox(children=(DataGrid(auto_fit_params={'area': 'all', 'padding': 30, 'numCols': None}, base_r…"
      ]
     },
     "execution_count": 4,
     "metadata": {},
     "output_type": "execute_result"
    }
   ],
   "source": [
    "container_widget.show()"
   ]
  },
  {
   "cell_type": "code",
   "execution_count": null,
   "id": "2e0f395a-17c3-45ae-9fe6-adef0dd4ac44",
   "metadata": {},
   "outputs": [],
   "source": []
  }
 ],
 "metadata": {
  "kernelspec": {
   "display_name": "Python 3 (ipykernel)",
   "language": "python",
   "name": "python3"
  },
  "language_info": {
   "codemirror_mode": {
    "name": "ipython",
    "version": 3
   },
   "file_extension": ".py",
   "mimetype": "text/x-python",
   "name": "python",
   "nbconvert_exporter": "python",
   "pygments_lexer": "ipython3",
   "version": "3.11.3"
  }
 },
 "nbformat": 4,
 "nbformat_minor": 5
}
