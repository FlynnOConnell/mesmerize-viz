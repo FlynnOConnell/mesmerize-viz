{
 "cells": [
  {
   "cell_type": "code",
   "execution_count": 1,
   "id": "3fda66e1-0973-4fba-bac4-31a44c8cbfa2",
   "metadata": {},
   "outputs": [],
   "source": [
    "import numpy as np"
   ]
  },
  {
   "cell_type": "code",
   "execution_count": 2,
   "id": "e4d01194-8f05-4221-821f-3550e7e039f7",
   "metadata": {},
   "outputs": [
    {
     "name": "stderr",
     "output_type": "stream",
     "text": [
      "2022-06-27 02:08:57.611655: W tensorflow/stream_executor/platform/default/dso_loader.cc:64] Could not load dynamic library 'libcudart.so.11.0'; dlerror: libcudart.so.11.0: cannot open shared object file: No such file or directory; LD_LIBRARY_PATH: /home/kushal/python-venvs/mescore/lib/python3.10/site-packages/cv2/../../lib64:\n",
      "2022-06-27 02:08:57.611679: I tensorflow/stream_executor/cuda/cudart_stub.cc:29] Ignore above cudart dlerror if you do not have a GPU set up on your machine.\n"
     ]
    }
   ],
   "source": [
    "from mesmerize_viz.widgets import MCorrViewer\n",
    "from mesmerize_core import load_batch, set_parent_raw_data_path"
   ]
  },
  {
   "cell_type": "code",
   "execution_count": 3,
   "id": "1225545f-9056-435e-bfef-53ff98376c8e",
   "metadata": {},
   "outputs": [],
   "source": [
    "set_parent_raw_data_path(\"/home/kushal/caiman_data/\")\n",
    "\n",
    "batch_path = \"/home/kushal/caiman_data/mesmerize-core-batch/batch2.pickle\"\n",
    "\n",
    "df = load_batch(batch_path)"
   ]
  },
  {
   "cell_type": "code",
   "execution_count": 4,
   "id": "4fba5bc7-4d33-4a75-8770-e370e726fb1f",
   "metadata": {},
   "outputs": [
    {
     "data": {
      "application/vnd.jupyter.widget-view+json": {
       "model_id": "3d3568e9d449496e8f7a07b49d54b2d0",
       "version_major": 2,
       "version_minor": 0
      },
      "text/plain": [
       "RFBOutputContext()"
      ]
     },
     "metadata": {},
     "output_type": "display_data"
    },
    {
     "name": "stderr",
     "output_type": "stream",
     "text": [
      "/home/kushal/Insync/kushalkolar@gmail.com/drive/repos/mesmerize-viz/mesmerize_viz/widgets.py:133: FutureWarning: You are trying to use the following experimental feature, this maybe change in the future without warning:\n",
      "CaimanSeriesExtensions.get_input_movie\n",
      "\n",
      "None\n",
      "  input=r.caiman.get_input_movie(),\n"
     ]
    }
   ],
   "source": [
    "mv = MCorrViewer(dataframe=df)"
   ]
  },
  {
   "cell_type": "code",
   "execution_count": 5,
   "id": "299b1a9c-c66a-4f41-8b52-77395265317a",
   "metadata": {},
   "outputs": [
    {
     "data": {
      "application/vnd.jupyter.widget-view+json": {
       "model_id": "abeef40312014c0895d8521890450edd",
       "version_major": 2,
       "version_minor": 0
      },
      "text/plain": [
       "VBox(children=(HBox(children=(Select(layout=Layout(height='200px'), options=('🟢 my_movie', '🟢 my_movie'), valu…"
      ]
     },
     "metadata": {},
     "output_type": "display_data"
    }
   ],
   "source": [
    "mv.show()"
   ]
  },
  {
   "cell_type": "code",
   "execution_count": 7,
   "id": "eac8c4b3-3abe-4a81-bf88-76162b3c65db",
   "metadata": {},
   "outputs": [],
   "source": [
    "mv.grid_plot.subplots[0, 0].center_scene()"
   ]
  },
  {
   "cell_type": "code",
   "execution_count": null,
   "id": "5afce9e0-a5ba-4a38-97dd-93c07155e2d9",
   "metadata": {},
   "outputs": [],
   "source": []
  }
 ],
 "metadata": {
  "kernelspec": {
   "display_name": "Python 3 (ipykernel)",
   "language": "python",
   "name": "python3"
  },
  "language_info": {
   "codemirror_mode": {
    "name": "ipython",
    "version": 3
   },
   "file_extension": ".py",
   "mimetype": "text/x-python",
   "name": "python",
   "nbconvert_exporter": "python",
   "pygments_lexer": "ipython3",
   "version": "3.10.2"
  }
 },
 "nbformat": 4,
 "nbformat_minor": 5
}
