{
 "cells": [
  {
   "cell_type": "markdown",
   "id": "dafa0e77-f99e-4b70-b9d1-78532f0b850f",
   "metadata": {},
   "source": [
    "### import numpy as np"
   ]
  },
  {
   "cell_type": "code",
   "execution_count": null,
   "id": "e4d01194-8f05-4221-821f-3550e7e039f7",
   "metadata": {
    "tags": []
   },
   "outputs": [],
   "source": [
    "from mesmerize_core import *\n",
    "from mesmerize_viz import *"
   ]
  },
  {
   "cell_type": "code",
   "execution_count": null,
   "id": "1225545f-9056-435e-bfef-53ff98376c8e",
   "metadata": {
    "tags": []
   },
   "outputs": [],
   "source": [
    "set_parent_raw_data_path(\"/home/kushal/caiman_data/\")\n",
    "\n",
    "batch_path = \"/home/kushal/caiman_data/mesmerize-batch/batch.pickle\"\n",
    "df = load_batch(batch_path)"
   ]
  },
  {
   "cell_type": "code",
   "execution_count": null,
   "id": "c2580d2b-b577-42a2-ae6b-5a89a90f0678",
   "metadata": {
    "tags": []
   },
   "outputs": [],
   "source": [
    "# optional\n",
    "%gui qt"
   ]
  },
  {
   "cell_type": "code",
   "execution_count": null,
   "id": "7b5d4c32-c5e7-42ed-8e39-55fcda337bcc",
   "metadata": {
    "tags": []
   },
   "outputs": [],
   "source": [
    "viz = df.mcorr.viz(data_options=[\"input\", \"mcorr\", \"mean\", \"corr\"])"
   ]
  },
  {
   "cell_type": "code",
   "execution_count": null,
   "id": "c7fac51e-5d91-4204-af25-4fce40ae20d5",
   "metadata": {},
   "outputs": [],
   "source": [
    "viz.show()"
   ]
  },
  {
   "cell_type": "code",
   "execution_count": null,
   "id": "661e3f21-dd49-4d14-a058-7d395f873fd0",
   "metadata": {},
   "outputs": [],
   "source": []
  }
 ],
 "metadata": {
  "kernelspec": {
   "display_name": "Python 3 (ipykernel)",
   "language": "python",
   "name": "python3"
  },
  "language_info": {
   "codemirror_mode": {
    "name": "ipython",
    "version": 3
   },
   "file_extension": ".py",
   "mimetype": "text/x-python",
   "name": "python",
   "nbconvert_exporter": "python",
   "pygments_lexer": "ipython3",
   "version": "3.11.2"
  }
 },
 "nbformat": 4,
 "nbformat_minor": 5
}
