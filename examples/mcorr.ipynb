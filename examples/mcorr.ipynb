{
 "cells": [
  {
   "cell_type": "markdown",
   "id": "dafa0e77-f99e-4b70-b9d1-78532f0b850f",
   "metadata": {},
   "source": [
    "### import numpy as np"
   ]
  },
  {
   "cell_type": "code",
   "execution_count": 1,
   "id": "e4d01194-8f05-4221-821f-3550e7e039f7",
   "metadata": {
    "tags": []
   },
   "outputs": [
    {
     "name": "stderr",
     "output_type": "stream",
     "text": [
      "2023-06-11 06:52:59.943298: I tensorflow/tsl/cuda/cudart_stub.cc:28] Could not find cuda drivers on your machine, GPU will not be used.\n",
      "2023-06-11 06:52:59.965901: I tensorflow/tsl/cuda/cudart_stub.cc:28] Could not find cuda drivers on your machine, GPU will not be used.\n",
      "2023-06-11 06:52:59.966418: I tensorflow/core/platform/cpu_feature_guard.cc:182] This TensorFlow binary is optimized to use available CPU instructions in performance-critical operations.\n",
      "To enable the following instructions: AVX2 FMA, in other operations, rebuild TensorFlow with the appropriate compiler flags.\n",
      "2023-06-11 06:53:00.520465: W tensorflow/compiler/tf2tensorrt/utils/py_utils.cc:38] TF-TRT Warning: Could not find TensorRT\n",
      "/home/kushal/repos/mesmerize-viz/mesmerize_viz/_mcorr.py:336: UserWarning: registration of accessor <class 'mesmerize_viz._mcorr.MCorrExtensionsViz'> under name 'mcorr' for type <class 'pandas.core.series.Series'> is overriding a preexisting attribute with the same name.\n",
      "  @pd.api.extensions.register_series_accessor(\"mcorr\")\n"
     ]
    }
   ],
   "source": [
    "from mesmerize_core import *\n",
    "from mesmerize_viz import *"
   ]
  },
  {
   "cell_type": "code",
   "execution_count": 2,
   "id": "1225545f-9056-435e-bfef-53ff98376c8e",
   "metadata": {
    "tags": []
   },
   "outputs": [],
   "source": [
    "set_parent_raw_data_path(\"/home/kushal/caiman_data/\")\n",
    "\n",
    "batch_path = \"/home/kushal/caiman_data/mesmerize-batch/batch.pickle\"\n",
    "\n",
    "df = load_batch(batch_path)"
   ]
  },
  {
   "cell_type": "code",
   "execution_count": 3,
   "id": "c5991539-b585-45d4-869f-5495e21af8bd",
   "metadata": {
    "tags": []
   },
   "outputs": [],
   "source": [
    "from mesmerize_viz._mcorr import get_mcorr_data_mapping\n",
    "from mesmerize_viz._common import ImageWidgetWrapper"
   ]
  },
  {
   "cell_type": "code",
   "execution_count": 4,
   "id": "c341a6fc-f802-4c42-8ba8-a3055e1e5a3e",
   "metadata": {
    "tags": []
   },
   "outputs": [],
   "source": [
    "mapping = get_mcorr_data_mapping(df.iloc[0])"
   ]
  },
  {
   "cell_type": "code",
   "execution_count": 5,
   "id": "7b5d4c32-c5e7-42ed-8e39-55fcda337bcc",
   "metadata": {
    "tags": []
   },
   "outputs": [
    {
     "name": "stderr",
     "output_type": "stream",
     "text": [
      "/home/kushal/venvs/mescore/lib/python3.11/site-packages/ipydatagrid/datagrid.py:445: UserWarning: Index name of 'index' is not round-trippable.\n",
      "  schema = pd.io.json.build_table_schema(dataframe)\n"
     ]
    },
    {
     "name": "stdout",
     "output_type": "stream",
     "text": [
      "Decode mmap filename /home/kushal/caiman_data/mesmerize-batch/b3503ab5-6376-4cd4-8c33-7f80735fca82/b3503ab5-6376-4cd4-8c33-7f80735fca82-Sue_2x_3000_40_-46_els__d1_170_d2_170_d3_1_order_F_frames_3000.mmap\n"
     ]
    },
    {
     "data": {
      "application/vnd.jupyter.widget-view+json": {
       "model_id": "b1ed1f20cc944cf495048afaaf503f7a",
       "version_major": 2,
       "version_minor": 0
      },
      "text/plain": [
       "RFBOutputContext()"
      ]
     },
     "metadata": {},
     "output_type": "display_data"
    },
    {
     "name": "stderr",
     "output_type": "stream",
     "text": [
      "/home/kushal/repos/fastplotlib/fastplotlib/graphics/features/_base.py:34: UserWarning: converting float64 array to float32\n",
      "  warn(f\"converting {array.dtype} array to float32\")\n",
      "/home/kushal/repos/mesmerize-viz/mesmerize_viz/_mcorr.py:245: FutureWarning: You are trying to use the following experimental feature, this may change in the future without warning:\n",
      "CaimanDataFrameExtensions.get_params_diffs\n",
      "This feature is new and the might improve in the future\n",
      "\n",
      "  param_diffs = self._dataframe.caiman.get_params_diffs(\n"
     ]
    }
   ],
   "source": [
    "container_widget = df.mcorr.viz(data=[\"input\", \"mcorr\", \"mean\", \"corr\"])"
   ]
  },
  {
   "cell_type": "code",
   "execution_count": 6,
   "id": "de1c7796-1362-4808-a902-1b7f08d23ba8",
   "metadata": {
    "tags": []
   },
   "outputs": [
    {
     "data": {
      "application/vnd.jupyter.widget-view+json": {
       "model_id": "4241832411b14e42a6217d7b79c4f8bc",
       "version_major": 2,
       "version_minor": 0
      },
      "text/plain": [
       "VBox(children=(HBox(children=(DataGrid(auto_fit_params={'area': 'all', 'padding': 30, 'numCols': None}, base_r…"
      ]
     },
     "execution_count": 6,
     "metadata": {},
     "output_type": "execute_result"
    }
   ],
   "source": [
    "container_widget.show()"
   ]
  },
  {
   "cell_type": "code",
   "execution_count": null,
   "id": "b6660b91-40e8-4b04-8bd3-89d774324d10",
   "metadata": {},
   "outputs": [],
   "source": []
  }
 ],
 "metadata": {
  "kernelspec": {
   "display_name": "Python 3 (ipykernel)",
   "language": "python",
   "name": "python3"
  },
  "language_info": {
   "codemirror_mode": {
    "name": "ipython",
    "version": 3
   },
   "file_extension": ".py",
   "mimetype": "text/x-python",
   "name": "python",
   "nbconvert_exporter": "python",
   "pygments_lexer": "ipython3",
   "version": "3.11.3"
  }
 },
 "nbformat": 4,
 "nbformat_minor": 5
}
