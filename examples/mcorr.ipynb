{
 "cells": [
  {
   "cell_type": "code",
   "execution_count": 1,
   "id": "e4d01194-8f05-4221-821f-3550e7e039f7",
   "metadata": {},
   "outputs": [
    {
     "name": "stderr",
     "output_type": "stream",
     "text": [
      "2022-06-25 04:12:26.258327: W tensorflow/stream_executor/platform/default/dso_loader.cc:64] Could not load dynamic library 'libcudart.so.11.0'; dlerror: libcudart.so.11.0: cannot open shared object file: No such file or directory; LD_LIBRARY_PATH: /home/kushal/python-venvs/mescore/lib/python3.10/site-packages/cv2/../../lib64:\n",
      "2022-06-25 04:12:26.258352: I tensorflow/stream_executor/cuda/cudart_stub.cc:29] Ignore above cudart dlerror if you do not have a GPU set up on your machine.\n"
     ]
    }
   ],
   "source": [
    "from mesmerize_viz import BatchViewer\n",
    "from mesmerize_core import load_batch, set_parent_raw_data_path"
   ]
  },
  {
   "cell_type": "code",
   "execution_count": 2,
   "id": "1225545f-9056-435e-bfef-53ff98376c8e",
   "metadata": {},
   "outputs": [],
   "source": [
    "set_parent_raw_data_path(\"/home/kushal/caiman_data/\")\n",
    "\n",
    "batch_path = \"/home/kushal/caiman_data/mesmerize-core-batch/batch2.pickle\"\n",
    "\n",
    "df = load_batch(batch_path)"
   ]
  },
  {
   "cell_type": "code",
   "execution_count": 3,
   "id": "4fba5bc7-4d33-4a75-8770-e370e726fb1f",
   "metadata": {},
   "outputs": [
    {
     "data": {
      "application/vnd.jupyter.widget-view+json": {
       "model_id": "3dba2dcd7c704c229e09489419455fa5",
       "version_major": 2,
       "version_minor": 0
      },
      "text/plain": [
       "RFBOutputContext()"
      ]
     },
     "metadata": {},
     "output_type": "display_data"
    },
    {
     "name": "stderr",
     "output_type": "stream",
     "text": [
      "/home/kushal/Insync/kushalkolar@gmail.com/drive/repos/mesmerize-viz/mesmerize_viz/widgets.py:94: FutureWarning: You are trying to use the following experimental feature, this maybe change in the future without warning:\n",
      "CaimanSeriesExtensions.get_input_movie\n",
      "\n",
      "None\n",
      "  self.current_movies[\"input\"] = r.caiman.get_input_movie()\n"
     ]
    }
   ],
   "source": [
    "bv = BatchViewer(dataframe=df)"
   ]
  },
  {
   "cell_type": "code",
   "execution_count": 4,
   "id": "08a4f922-0edb-4ccc-a97e-cf6f4dd0eebf",
   "metadata": {},
   "outputs": [
    {
     "data": {
      "application/vnd.jupyter.widget-view+json": {
       "model_id": "5462ed57a0f74843825944cae08e0262",
       "version_major": 2,
       "version_minor": 0
      },
      "text/plain": [
       "VBox(children=(HBox(children=(VBox(children=(Label(value='batch items:'), Select(options=('my_movie', 'my_movi…"
      ]
     },
     "metadata": {},
     "output_type": "display_data"
    }
   ],
   "source": [
    "bv.show()"
   ]
  },
  {
   "cell_type": "code",
   "execution_count": 8,
   "id": "10366480-fed9-4dc9-86f6-7667b7fb2395",
   "metadata": {},
   "outputs": [],
   "source": [
    "bv.ds_window = 2"
   ]
  },
  {
   "cell_type": "code",
   "execution_count": null,
   "id": "ae63a4d6-934e-43cf-8634-1049c22957d3",
   "metadata": {},
   "outputs": [],
   "source": []
  }
 ],
 "metadata": {
  "kernelspec": {
   "display_name": "Python 3 (ipykernel)",
   "language": "python",
   "name": "python3"
  },
  "language_info": {
   "codemirror_mode": {
    "name": "ipython",
    "version": 3
   },
   "file_extension": ".py",
   "mimetype": "text/x-python",
   "name": "python",
   "nbconvert_exporter": "python",
   "pygments_lexer": "ipython3",
   "version": "3.10.2"
  }
 },
 "nbformat": 4,
 "nbformat_minor": 5
}
