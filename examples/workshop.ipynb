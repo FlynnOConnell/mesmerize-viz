{
 "cells": [
  {
   "cell_type": "markdown",
   "id": "55ec0e8b-2c76-4036-9a63-6b4e40797157",
   "metadata": {},
   "source": [
    "# mesmerize-viz demo"
   ]
  },
  {
   "cell_type": "code",
   "execution_count": 1,
   "id": "d5cfa59f-5bc0-460b-bfca-72dee7467a1e",
   "metadata": {
    "pycharm": {
     "name": "#%%\n"
    },
    "tags": []
   },
   "outputs": [],
   "source": [
    "from mesmerize_core import *\n",
    "import tifffile\n",
    "import numpy as np\n",
    "from matplotlib import pyplot as plt\n",
    "import seaborn as sns\n",
    "from copy import deepcopy\n",
    "import pandas as pd"
   ]
  },
  {
   "cell_type": "code",
   "execution_count": 2,
   "id": "89c91d60-135f-458c-bd73-dfb2e2d65bb6",
   "metadata": {
    "pycharm": {
     "name": "#%%\n"
    }
   },
   "outputs": [],
   "source": [
    "from fastplotlib import GridPlot, Image, Plot\n",
    "from ipywidgets.widgets import IntSlider, VBox\n",
    "from mesmerize_viz.cnmfviewer import CNMFViewer\n",
    "from mesmerize_viz.mcorrviewer import MCorrViewer\n",
    "from mesmerize_viz.dataframeviewer import DataframeViewer\n",
    "from mesmerize_viz.selectviewer import SelectViewer"
   ]
  },
  {
   "cell_type": "code",
   "execution_count": 19,
   "id": "30cab12c-afb5-4ee4-9d16-1b3cd03bdad5",
   "metadata": {
    "pycharm": {
     "name": "#%%\n"
    }
   },
   "outputs": [],
   "source": [
    "set_parent_raw_data_path(\"/home/clewis7/caiman_data/\")\n",
    "\n",
    "batch_path = \"/home/clewis7/caiman_data/mesmerize-core-batch/batch.pickle\"\n",
    "\n",
    "movie_path = \"/home/clewis7/caiman_data/example_movies/demoMovie.tif\""
   ]
  },
  {
   "cell_type": "code",
   "execution_count": 20,
   "id": "cccb9c6b-02ee-4d32-bd5a-5496bcd18f5d",
   "metadata": {},
   "outputs": [],
   "source": [
    "mcorr_df = load_batch(batch_path)"
   ]
  },
  {
   "cell_type": "code",
   "execution_count": 5,
   "id": "1590b646-af28-4cbf-b5f2-58784b67cf98",
   "metadata": {},
   "outputs": [
    {
     "data": {
      "text/html": [
       "<div>\n",
       "<style scoped>\n",
       "    .dataframe tbody tr th:only-of-type {\n",
       "        vertical-align: middle;\n",
       "    }\n",
       "\n",
       "    .dataframe tbody tr th {\n",
       "        vertical-align: top;\n",
       "    }\n",
       "\n",
       "    .dataframe thead th {\n",
       "        text-align: right;\n",
       "    }\n",
       "</style>\n",
       "<table border=\"1\" class=\"dataframe\">\n",
       "  <thead>\n",
       "    <tr style=\"text-align: right;\">\n",
       "      <th></th>\n",
       "      <th>algo</th>\n",
       "      <th>item_name</th>\n",
       "      <th>input_movie_path</th>\n",
       "      <th>params</th>\n",
       "      <th>outputs</th>\n",
       "      <th>comments</th>\n",
       "      <th>uuid</th>\n",
       "    </tr>\n",
       "  </thead>\n",
       "  <tbody>\n",
       "    <tr>\n",
       "      <th>0</th>\n",
       "      <td>mcorr</td>\n",
       "      <td>my_movie</td>\n",
       "      <td>example_movies/demoMovie.tif</td>\n",
       "      <td>{'main': {'max_shifts': (24, 24), 'strides': (...</td>\n",
       "      <td>{'mean-projection-path': b6663bf9-bbf5-4b24-a1...</td>\n",
       "      <td>None</td>\n",
       "      <td>b6663bf9-bbf5-4b24-a184-b9eaed4b43cd</td>\n",
       "    </tr>\n",
       "    <tr>\n",
       "      <th>1</th>\n",
       "      <td>mcorr</td>\n",
       "      <td>my_movie</td>\n",
       "      <td>example_movies/demoMovie.tif</td>\n",
       "      <td>{'main': {'max_shifts': (24, 24), 'strides': (...</td>\n",
       "      <td>{'mean-projection-path': 54663442-33d8-4763-9b...</td>\n",
       "      <td>None</td>\n",
       "      <td>54663442-33d8-4763-9b72-29c8c6f158d1</td>\n",
       "    </tr>\n",
       "    <tr>\n",
       "      <th>2</th>\n",
       "      <td>cnmf</td>\n",
       "      <td>my_movie</td>\n",
       "      <td>b6663bf9-bbf5-4b24-a184-b9eaed4b43cd/b6663bf9-...</td>\n",
       "      <td>{'main': {'fr': 30, 'p': 1, 'nb': 2, 'merge_th...</td>\n",
       "      <td>{'mean-projection-path': dce4e58a-2104-4ed2-b6...</td>\n",
       "      <td>None</td>\n",
       "      <td>dce4e58a-2104-4ed2-b6c1-ebfa2bb84185</td>\n",
       "    </tr>\n",
       "    <tr>\n",
       "      <th>3</th>\n",
       "      <td>cnmf</td>\n",
       "      <td>my_movie</td>\n",
       "      <td>54663442-33d8-4763-9b72-29c8c6f158d1/54663442-...</td>\n",
       "      <td>{'main': {'fr': 30, 'p': 1, 'nb': 2, 'merge_th...</td>\n",
       "      <td>{'mean-projection-path': 6bea8594-67ef-4ae7-8f...</td>\n",
       "      <td>None</td>\n",
       "      <td>6bea8594-67ef-4ae7-8fe6-2ef129f8dc6c</td>\n",
       "    </tr>\n",
       "  </tbody>\n",
       "</table>\n",
       "</div>"
      ],
      "text/plain": [
       "    algo item_name                                   input_movie_path  \\\n",
       "0  mcorr  my_movie                       example_movies/demoMovie.tif   \n",
       "1  mcorr  my_movie                       example_movies/demoMovie.tif   \n",
       "2   cnmf  my_movie  b6663bf9-bbf5-4b24-a184-b9eaed4b43cd/b6663bf9-...   \n",
       "3   cnmf  my_movie  54663442-33d8-4763-9b72-29c8c6f158d1/54663442-...   \n",
       "\n",
       "                                              params  \\\n",
       "0  {'main': {'max_shifts': (24, 24), 'strides': (...   \n",
       "1  {'main': {'max_shifts': (24, 24), 'strides': (...   \n",
       "2  {'main': {'fr': 30, 'p': 1, 'nb': 2, 'merge_th...   \n",
       "3  {'main': {'fr': 30, 'p': 1, 'nb': 2, 'merge_th...   \n",
       "\n",
       "                                             outputs comments  \\\n",
       "0  {'mean-projection-path': b6663bf9-bbf5-4b24-a1...     None   \n",
       "1  {'mean-projection-path': 54663442-33d8-4763-9b...     None   \n",
       "2  {'mean-projection-path': dce4e58a-2104-4ed2-b6...     None   \n",
       "3  {'mean-projection-path': 6bea8594-67ef-4ae7-8f...     None   \n",
       "\n",
       "                                   uuid  \n",
       "0  b6663bf9-bbf5-4b24-a184-b9eaed4b43cd  \n",
       "1  54663442-33d8-4763-9b72-29c8c6f158d1  \n",
       "2  dce4e58a-2104-4ed2-b6c1-ebfa2bb84185  \n",
       "3  6bea8594-67ef-4ae7-8fe6-2ef129f8dc6c  "
      ]
     },
     "execution_count": 5,
     "metadata": {},
     "output_type": "execute_result"
    }
   ],
   "source": [
    "mcorr_df"
   ]
  },
  {
   "cell_type": "markdown",
   "id": "4c9e9221-527a-4a4e-a182-8fa440f6bee3",
   "metadata": {},
   "source": [
    "### Viewer for MCORR"
   ]
  },
  {
   "cell_type": "code",
   "execution_count": 6,
   "id": "68f68073-2eec-4162-9e85-0369a69ef978",
   "metadata": {},
   "outputs": [
    {
     "data": {
      "application/vnd.jupyter.widget-view+json": {
       "model_id": "d2c1f754ec5b4717a07b96226682b82e",
       "version_major": 2,
       "version_minor": 0
      },
      "text/plain": [
       "RFBOutputContext()"
      ]
     },
     "metadata": {},
     "output_type": "display_data"
    },
    {
     "name": "stderr",
     "output_type": "stream",
     "text": [
      "/home/clewis7/repos/mesmerize-viz/mesmerize_viz/mcorrviewer.py:89: FutureWarning: You are trying to use the following experimental feature, this may change in the future without warning:\n",
      "CaimanSeriesExtensions.get_input_movie\n",
      "\n",
      "\n",
      "  input=r.caiman.get_input_movie(\"append-tiff\"),\n"
     ]
    }
   ],
   "source": [
    "mv = MCorrViewer(dataframe=mcorr_df)\n",
    "sv = SelectViewer(mv, grid_shape=(2,3))\n",
    "dfv = DataframeViewer(mv, sv)"
   ]
  },
  {
   "cell_type": "code",
   "execution_count": 7,
   "id": "ea25018e-4298-4e2b-a36a-4ff7f0f8701d",
   "metadata": {},
   "outputs": [
    {
     "data": {
      "application/vnd.jupyter.widget-view+json": {
       "model_id": "3c17189d148c40fb98eb616a53449296",
       "version_major": 2,
       "version_minor": 0
      },
      "text/plain": [
       "VBox(children=(HBox(children=(Select(layout=Layout(height='200px'), options=('0: 🟢 my_movie', '1: 🟢 my_movie',…"
      ]
     },
     "metadata": {},
     "output_type": "display_data"
    }
   ],
   "source": [
    "dfv.show()"
   ]
  },
  {
   "cell_type": "code",
   "execution_count": 8,
   "id": "5f1352f2-95fb-4aab-8064-9f9a21b4a419",
   "metadata": {},
   "outputs": [],
   "source": [
    "cnmf_df = load_batch(batch_path)"
   ]
  },
  {
   "cell_type": "code",
   "execution_count": 9,
   "id": "528750d1-6253-4fb1-8219-95d8f2e97ad8",
   "metadata": {},
   "outputs": [],
   "source": [
    "cnmf_df = cnmf_df[cnmf_df[\"algo\"] == \"cnmf\"]"
   ]
  },
  {
   "cell_type": "code",
   "execution_count": 10,
   "id": "3921c4c6-4d50-4614-a7c3-bb0bfc6451b6",
   "metadata": {},
   "outputs": [
    {
     "data": {
      "text/html": [
       "<div>\n",
       "<style scoped>\n",
       "    .dataframe tbody tr th:only-of-type {\n",
       "        vertical-align: middle;\n",
       "    }\n",
       "\n",
       "    .dataframe tbody tr th {\n",
       "        vertical-align: top;\n",
       "    }\n",
       "\n",
       "    .dataframe thead th {\n",
       "        text-align: right;\n",
       "    }\n",
       "</style>\n",
       "<table border=\"1\" class=\"dataframe\">\n",
       "  <thead>\n",
       "    <tr style=\"text-align: right;\">\n",
       "      <th></th>\n",
       "      <th>index</th>\n",
       "      <th>algo</th>\n",
       "      <th>item_name</th>\n",
       "      <th>input_movie_path</th>\n",
       "      <th>params</th>\n",
       "      <th>outputs</th>\n",
       "      <th>comments</th>\n",
       "      <th>uuid</th>\n",
       "    </tr>\n",
       "  </thead>\n",
       "  <tbody>\n",
       "    <tr>\n",
       "      <th>0</th>\n",
       "      <td>2</td>\n",
       "      <td>cnmf</td>\n",
       "      <td>my_movie</td>\n",
       "      <td>b6663bf9-bbf5-4b24-a184-b9eaed4b43cd/b6663bf9-...</td>\n",
       "      <td>{'main': {'fr': 30, 'p': 1, 'nb': 2, 'merge_th...</td>\n",
       "      <td>{'mean-projection-path': dce4e58a-2104-4ed2-b6...</td>\n",
       "      <td>None</td>\n",
       "      <td>dce4e58a-2104-4ed2-b6c1-ebfa2bb84185</td>\n",
       "    </tr>\n",
       "    <tr>\n",
       "      <th>1</th>\n",
       "      <td>3</td>\n",
       "      <td>cnmf</td>\n",
       "      <td>my_movie</td>\n",
       "      <td>54663442-33d8-4763-9b72-29c8c6f158d1/54663442-...</td>\n",
       "      <td>{'main': {'fr': 30, 'p': 1, 'nb': 2, 'merge_th...</td>\n",
       "      <td>{'mean-projection-path': 6bea8594-67ef-4ae7-8f...</td>\n",
       "      <td>None</td>\n",
       "      <td>6bea8594-67ef-4ae7-8fe6-2ef129f8dc6c</td>\n",
       "    </tr>\n",
       "  </tbody>\n",
       "</table>\n",
       "</div>"
      ],
      "text/plain": [
       "   index  algo item_name                                   input_movie_path  \\\n",
       "0      2  cnmf  my_movie  b6663bf9-bbf5-4b24-a184-b9eaed4b43cd/b6663bf9-...   \n",
       "1      3  cnmf  my_movie  54663442-33d8-4763-9b72-29c8c6f158d1/54663442-...   \n",
       "\n",
       "                                              params  \\\n",
       "0  {'main': {'fr': 30, 'p': 1, 'nb': 2, 'merge_th...   \n",
       "1  {'main': {'fr': 30, 'p': 1, 'nb': 2, 'merge_th...   \n",
       "\n",
       "                                             outputs comments  \\\n",
       "0  {'mean-projection-path': dce4e58a-2104-4ed2-b6...     None   \n",
       "1  {'mean-projection-path': 6bea8594-67ef-4ae7-8f...     None   \n",
       "\n",
       "                                   uuid  \n",
       "0  dce4e58a-2104-4ed2-b6c1-ebfa2bb84185  \n",
       "1  6bea8594-67ef-4ae7-8fe6-2ef129f8dc6c  "
      ]
     },
     "execution_count": 10,
     "metadata": {},
     "output_type": "execute_result"
    }
   ],
   "source": [
    "cnmf_df.reset_index()"
   ]
  },
  {
   "cell_type": "code",
   "execution_count": 11,
   "id": "431a372b-01a6-4e87-9a41-8e241eed9d92",
   "metadata": {},
   "outputs": [
    {
     "data": {
      "application/vnd.jupyter.widget-view+json": {
       "model_id": "598f26cf14564222a90af0704c033914",
       "version_major": 2,
       "version_minor": 0
      },
      "text/plain": [
       "RFBOutputContext()"
      ]
     },
     "metadata": {},
     "output_type": "display_data"
    },
    {
     "name": "stderr",
     "output_type": "stream",
     "text": [
      "/home/clewis7/repos/mesmerize-viz/mesmerize_viz/cnmfviewer.py:86: FutureWarning: You are trying to use the following experimental feature, this may change in the future without warning:\n",
      "CaimanSeriesExtensions.get_input_movie\n",
      "\n",
      "\n",
      "  input=r.caiman.get_input_movie(),\n"
     ]
    }
   ],
   "source": [
    "cv = CNMFViewer(dataframe=cnmf_df)\n",
    "sv = SelectViewer(cv, grid_shape=(2,2))\n",
    "dfv = DataframeViewer(cv, sv)"
   ]
  },
  {
   "cell_type": "code",
   "execution_count": 12,
   "id": "7eb2c429-f549-4710-bb4e-cdef1bc55f46",
   "metadata": {},
   "outputs": [
    {
     "data": {
      "application/vnd.jupyter.widget-view+json": {
       "model_id": "11752d87893944cda5350dda04c9bea0",
       "version_major": 2,
       "version_minor": 0
      },
      "text/plain": [
       "Tab(children=(VBox(children=(HBox(children=(Select(layout=Layout(height='200px'), options=('0: 🟢 my_movie', '1…"
      ]
     },
     "metadata": {},
     "output_type": "display_data"
    }
   ],
   "source": [
    "dfv.show()"
   ]
  },
  {
   "cell_type": "code",
   "execution_count": null,
   "id": "85b3145c-1e4f-42bb-8ebc-f3a75dfdda78",
   "metadata": {},
   "outputs": [],
   "source": []
  }
 ],
 "metadata": {
  "kernelspec": {
   "display_name": "Python 3 (ipykernel)",
   "language": "python",
   "name": "python3"
  },
  "language_info": {
   "codemirror_mode": {
    "name": "ipython",
    "version": 3
   },
   "file_extension": ".py",
   "mimetype": "text/x-python",
   "name": "python",
   "nbconvert_exporter": "python",
   "pygments_lexer": "ipython3",
   "version": "3.9.2"
  }
 },
 "nbformat": 4,
 "nbformat_minor": 5
}
