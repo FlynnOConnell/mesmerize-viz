{
 "cells": [
  {
   "cell_type": "code",
   "execution_count": null,
   "id": "c0e29f1f-a33b-45ab-877a-29291bb5fd01",
   "metadata": {
    "tags": []
   },
   "outputs": [],
   "source": [
    "from mesmerize_core import *\n",
    "from mesmerize_viz import *"
   ]
  },
  {
   "cell_type": "code",
   "execution_count": null,
   "id": "326b9f89-7bcd-4b76-be74-9d1d84b96ca2",
   "metadata": {
    "tags": []
   },
   "outputs": [],
   "source": [
    "set_parent_raw_data_path(\"/home/kushal/caiman_data/\")\n",
    "\n",
    "batch_path = \"/home/kushal/caiman_data/mesmerize-batch/batch.pickle\"\n",
    "\n",
    "df = load_batch(batch_path)"
   ]
  },
  {
   "cell_type": "code",
   "execution_count": null,
   "id": "c5ba8e2e-e1ec-447c-8cdb-4e6b35680e11",
   "metadata": {
    "tags": []
   },
   "outputs": [],
   "source": [
    "# optional\n",
    "# %gui qt"
   ]
  },
  {
   "cell_type": "code",
   "execution_count": null,
   "id": "914fb902-1476-4ba8-9b8e-85c338211fba",
   "metadata": {
    "tags": []
   },
   "outputs": [],
   "source": [
    "viz = df.cnmf.viz(temporal_kwargs={\"add_residuals\": True})"
   ]
  },
  {
   "cell_type": "code",
   "execution_count": null,
   "id": "c0427b7d-b14b-4cfe-91af-d555c92e5557",
   "metadata": {
    "tags": []
   },
   "outputs": [],
   "source": [
    "viz.show()"
   ]
  },
  {
   "cell_type": "code",
   "execution_count": null,
   "id": "510b2710-744a-4e26-a485-e494d22fbd81",
   "metadata": {},
   "outputs": [],
   "source": [
    "viz.cnmf_obj.estimates.idx_components"
   ]
  },
  {
   "cell_type": "code",
   "execution_count": null,
   "id": "517e9e01-0f45-49b0-b1b7-ff0a9b3a03bb",
   "metadata": {},
   "outputs": [],
   "source": [
    "viz.cnmf_obj.estimates.idx_components_bad"
   ]
  },
  {
   "cell_type": "code",
   "execution_count": null,
   "id": "78c3bcf5-7147-44cc-a9af-c8c0969b9940",
   "metadata": {},
   "outputs": [],
   "source": [
    "df.iloc[1].cnmf.get_output().estimates.idx_components, df.iloc[1].cnmf.get_output().estimates.idx_components_bad"
   ]
  },
  {
   "cell_type": "code",
   "execution_count": null,
   "id": "c32a7f90-6121-4e2e-8cd3-399cf0d5acd4",
   "metadata": {},
   "outputs": [],
   "source": []
  }
 ],
 "metadata": {
  "kernelspec": {
   "display_name": "Python 3 (ipykernel)",
   "language": "python",
   "name": "python3"
  },
  "language_info": {
   "codemirror_mode": {
    "name": "ipython",
    "version": 3
   },
   "file_extension": ".py",
   "mimetype": "text/x-python",
   "name": "python",
   "nbconvert_exporter": "python",
   "pygments_lexer": "ipython3",
   "version": "3.11.2"
  }
 },
 "nbformat": 4,
 "nbformat_minor": 5
}
