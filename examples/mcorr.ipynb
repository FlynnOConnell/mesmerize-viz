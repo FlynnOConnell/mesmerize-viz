{
 "cells": [
  {
   "cell_type": "markdown",
   "id": "dafa0e77-f99e-4b70-b9d1-78532f0b850f",
   "metadata": {},
   "source": [
    "### import numpy as np"
   ]
  },
  {
   "cell_type": "code",
   "execution_count": 1,
   "id": "e4d01194-8f05-4221-821f-3550e7e039f7",
   "metadata": {
    "tags": []
   },
   "outputs": [
    {
     "name": "stderr",
     "output_type": "stream",
     "text": [
      "2023-10-14 03:49:01.457161: I tensorflow/tsl/cuda/cudart_stub.cc:28] Could not find cuda drivers on your machine, GPU will not be used.\n",
      "2023-10-14 03:49:01.489296: E tensorflow/compiler/xla/stream_executor/cuda/cuda_dnn.cc:9342] Unable to register cuDNN factory: Attempting to register factory for plugin cuDNN when one has already been registered\n",
      "2023-10-14 03:49:01.489325: E tensorflow/compiler/xla/stream_executor/cuda/cuda_fft.cc:609] Unable to register cuFFT factory: Attempting to register factory for plugin cuFFT when one has already been registered\n",
      "2023-10-14 03:49:01.489351: E tensorflow/compiler/xla/stream_executor/cuda/cuda_blas.cc:1518] Unable to register cuBLAS factory: Attempting to register factory for plugin cuBLAS when one has already been registered\n",
      "2023-10-14 03:49:01.495237: I tensorflow/tsl/cuda/cudart_stub.cc:28] Could not find cuda drivers on your machine, GPU will not be used.\n",
      "2023-10-14 03:49:01.496002: I tensorflow/core/platform/cpu_feature_guard.cc:182] This TensorFlow binary is optimized to use available CPU instructions in performance-critical operations.\n",
      "To enable the following instructions: AVX2 FMA, in other operations, rebuild TensorFlow with the appropriate compiler flags.\n",
      "2023-10-14 03:49:02.279430: W tensorflow/compiler/tf2tensorrt/utils/py_utils.cc:38] TF-TRT Warning: Could not find TensorRT\n",
      "Possible incompatible version of wgpu:\n",
      "    Detected 0.11.0, need >=0.10.0, <0.11.0.\n"
     ]
    }
   ],
   "source": [
    "from mesmerize_core import *\n",
    "from mesmerize_viz import *"
   ]
  },
  {
   "cell_type": "code",
   "execution_count": 2,
   "id": "1225545f-9056-435e-bfef-53ff98376c8e",
   "metadata": {
    "tags": []
   },
   "outputs": [],
   "source": [
    "set_parent_raw_data_path(\"/home/kushal/caiman_data/\")\n",
    "\n",
    "batch_path = \"/home/kushal/caiman_data/mesmerize-batch/batch.pickle\"\n",
    "df = load_batch(batch_path)"
   ]
  },
  {
   "cell_type": "code",
   "execution_count": 3,
   "id": "562fb85c-aedc-4d7e-8810-7846fe74e47f",
   "metadata": {},
   "outputs": [],
   "source": [
    "from mesmerize_viz._utils import format_params"
   ]
  },
  {
   "cell_type": "code",
   "execution_count": 4,
   "id": "7b5d4c32-c5e7-42ed-8e39-55fcda337bcc",
   "metadata": {
    "tags": []
   },
   "outputs": [
    {
     "name": "stderr",
     "output_type": "stream",
     "text": [
      "/home/kushal/venvs/mescore/lib/python3.11/site-packages/ipydatagrid/datagrid.py:460: UserWarning: Index name of 'index' is not round-trippable.\n",
      "  schema = pd.io.json.build_table_schema(dataframe)\n",
      "/home/kushal/repos/mesmerize-viz/mesmerize_viz/_mcorr.py:311: FutureWarning: You are trying to use the following experimental feature, this may change in the future without warning:\n",
      "CaimanDataFrameExtensions.get_params_diffs\n",
      "This feature is new and the might improve in the future\n",
      "\n",
      "  param_diffs = self._dataframe.caiman.get_params_diffs(\n"
     ]
    },
    {
     "data": {
      "application/vnd.jupyter.widget-view+json": {
       "model_id": "b5fa0c34225f441581d8fd223e60a894",
       "version_major": 2,
       "version_minor": 0
      },
      "text/plain": [
       "RFBOutputContext()"
      ]
     },
     "metadata": {},
     "output_type": "display_data"
    }
   ],
   "source": [
    "container_widget = df.mcorr.viz(data_options=[\"input\", \"mcorr\", \"mean\", \"corr\"])"
   ]
  },
  {
   "cell_type": "code",
   "execution_count": 5,
   "id": "c7fac51e-5d91-4204-af25-4fce40ae20d5",
   "metadata": {},
   "outputs": [],
   "source": [
    "container_widget.show()"
   ]
  },
  {
   "cell_type": "code",
   "execution_count": null,
   "id": "50355864-53e1-44e4-898a-6499a061c0fd",
   "metadata": {},
   "outputs": [],
   "source": []
  }
 ],
 "metadata": {
  "kernelspec": {
   "display_name": "Python 3 (ipykernel)",
   "language": "python",
   "name": "python3"
  },
  "language_info": {
   "codemirror_mode": {
    "name": "ipython",
    "version": 3
   },
   "file_extension": ".py",
   "mimetype": "text/x-python",
   "name": "python",
   "nbconvert_exporter": "python",
   "pygments_lexer": "ipython3",
   "version": "3.11.2"
  }
 },
 "nbformat": 4,
 "nbformat_minor": 5
}
