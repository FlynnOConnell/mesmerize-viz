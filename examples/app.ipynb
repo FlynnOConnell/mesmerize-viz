{
 "cells": [
  {
   "cell_type": "code",
   "execution_count": 1,
   "id": "82c1ce4f-3add-4293-88e5-2b0fd16c1eed",
   "metadata": {
    "tags": []
   },
   "outputs": [],
   "source": [
    "import warnings\n",
    "warnings.filterwarnings(\"ignore\")"
   ]
  },
  {
   "cell_type": "code",
   "execution_count": 2,
   "id": "5a023cf9-cada-4fbd-b876-d9d8f72ec242",
   "metadata": {
    "tags": []
   },
   "outputs": [
    {
     "name": "stderr",
     "output_type": "stream",
     "text": [
      "2023-06-11 08:06:14.501392: I tensorflow/tsl/cuda/cudart_stub.cc:28] Could not find cuda drivers on your machine, GPU will not be used.\n",
      "2023-06-11 08:06:14.524025: I tensorflow/tsl/cuda/cudart_stub.cc:28] Could not find cuda drivers on your machine, GPU will not be used.\n",
      "2023-06-11 08:06:14.524409: I tensorflow/core/platform/cpu_feature_guard.cc:182] This TensorFlow binary is optimized to use available CPU instructions in performance-critical operations.\n",
      "To enable the following instructions: AVX2 FMA, in other operations, rebuild TensorFlow with the appropriate compiler flags.\n",
      "2023-06-11 08:06:15.049944: W tensorflow/compiler/tf2tensorrt/utils/py_utils.cc:38] TF-TRT Warning: Could not find TensorRT\n"
     ]
    }
   ],
   "source": [
    "from pathlib import Path\n",
    "\n",
    "from mesmerize_core import *\n",
    "from mesmerize_viz import *\n",
    "\n",
    "from ipywidgets import Tab, Text, Button, VBox, interact_manual, interactive"
   ]
  },
  {
   "cell_type": "code",
   "execution_count": 3,
   "id": "eda6d11e-5ea9-4879-b694-6782bfb6b928",
   "metadata": {
    "tags": []
   },
   "outputs": [
    {
     "data": {
      "application/vnd.jupyter.widget-view+json": {
       "model_id": "b8c23c4fc4844c4c8ca4dcb80b865cba",
       "version_major": 2,
       "version_minor": 0
      },
      "text/plain": [
       "interactive(children=(Text(value='/home/kushal', continuous_update=False, description='parent_path'), Text(val…"
      ]
     },
     "metadata": {},
     "output_type": "display_data"
    }
   ],
   "source": [
    "@interact_manual(parent_path=str(Path.home()), batch_path=str(Path.home()))\n",
    "def start_widget(parent_path, batch_path):\n",
    "    set_parent_raw_data_path(parent_path)\n",
    "\n",
    "    df = load_batch(batch_path)\n",
    "\n",
    "    tab = Tab()\n",
    "\n",
    "    mcorr_container = df.mcorr.viz()\n",
    "    cnmf_container = df.cnmf.viz(start_index=2)\n",
    "\n",
    "    tab.children = [mcorr_container.show(), cnmf_container.show()]\n",
    "    tab.titles = [\"mcorr\", \"cnmf\"]\n",
    "    display(tab)"
   ]
  },
  {
   "cell_type": "code",
   "execution_count": null,
   "id": "396e366a-4089-46a2-9acc-c9ef58ef6b4f",
   "metadata": {},
   "outputs": [],
   "source": []
  }
 ],
 "metadata": {
  "kernelspec": {
   "display_name": "Python 3 (ipykernel)",
   "language": "python",
   "name": "python3"
  },
  "language_info": {
   "codemirror_mode": {
    "name": "ipython",
    "version": 3
   },
   "file_extension": ".py",
   "mimetype": "text/x-python",
   "name": "python",
   "nbconvert_exporter": "python",
   "pygments_lexer": "ipython3",
   "version": "3.11.3"
  }
 },
 "nbformat": 4,
 "nbformat_minor": 5
}
