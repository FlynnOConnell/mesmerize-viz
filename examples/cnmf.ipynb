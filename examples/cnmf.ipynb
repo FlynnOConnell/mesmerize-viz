{
 "cells": [
  {
   "cell_type": "code",
   "execution_count": null,
   "id": "71858ecf-3017-460a-9f43-af29bc1dcaee",
   "metadata": {},
   "outputs": [],
   "source": [
    "# looking at cnmf viewer"
   ]
  },
  {
   "cell_type": "code",
   "execution_count": 1,
   "id": "930993e4-860f-48d6-81e0-884c602ff70f",
   "metadata": {},
   "outputs": [],
   "source": [
    "import numpy as np"
   ]
  },
  {
   "cell_type": "code",
   "execution_count": 2,
   "id": "0ec8ddf3-533a-4941-a4d3-89d351473d46",
   "metadata": {},
   "outputs": [],
   "source": [
    "from mesmerize_viz.dataframeviewer import DataframeViewer\n",
    "from mesmerize_viz.cnmfviewer import CNMFViewer\n",
    "from mesmerize_viz.selectviewer import SelectViewer\n",
    "from mesmerize_core import load_batch, set_parent_raw_data_path"
   ]
  },
  {
   "cell_type": "code",
   "execution_count": 3,
   "id": "28d12052-5afb-4958-8074-d184b20d7d85",
   "metadata": {},
   "outputs": [],
   "source": [
    "set_parent_raw_data_path(\"/data/wasabi-remote/hantmanlab/from_tier2/Teena/Experiments/Mesoscale/Opto_inter_region/\")\n",
    "\n",
    "df2 = load_batch(\"/data/wasabi-remote/hantmanlab/from_tier2/Teena/Experiments/Mesoscale/Opto_inter_region/mesmerize_batch/batch.pickle\")"
   ]
  },
  {
   "cell_type": "code",
   "execution_count": 4,
   "id": "912e73d2-4c78-4ea4-866e-4e24db6c7f44",
   "metadata": {},
   "outputs": [],
   "source": [
    "df = df2.loc[df2[\"algo\"] == \"cnmf\"]"
   ]
  },
  {
   "cell_type": "code",
   "execution_count": 5,
   "id": "dc991487-8fab-4f89-9fef-13b9d3e80b7d",
   "metadata": {},
   "outputs": [
    {
     "data": {
      "text/html": [
       "<div>\n",
       "<style scoped>\n",
       "    .dataframe tbody tr th:only-of-type {\n",
       "        vertical-align: middle;\n",
       "    }\n",
       "\n",
       "    .dataframe tbody tr th {\n",
       "        vertical-align: top;\n",
       "    }\n",
       "\n",
       "    .dataframe thead th {\n",
       "        text-align: right;\n",
       "    }\n",
       "</style>\n",
       "<table border=\"1\" class=\"dataframe\">\n",
       "  <thead>\n",
       "    <tr style=\"text-align: right;\">\n",
       "      <th></th>\n",
       "      <th>index</th>\n",
       "      <th>algo</th>\n",
       "      <th>name</th>\n",
       "      <th>input_movie_path</th>\n",
       "      <th>params</th>\n",
       "      <th>outputs</th>\n",
       "      <th>uuid</th>\n",
       "      <th>animal_id</th>\n",
       "      <th>session_id</th>\n",
       "      <th>trial_df_path</th>\n",
       "      <th>exp-group</th>\n",
       "    </tr>\n",
       "  </thead>\n",
       "  <tbody>\n",
       "    <tr>\n",
       "      <th>0</th>\n",
       "      <td>59</td>\n",
       "      <td>cnmf</td>\n",
       "      <td>oit4-080721-ap1_1_pt_5a</td>\n",
       "      <td>9e7acfd3-e7e5-4c3a-a96d-2e1b586c0b58/9e7acfd3-...</td>\n",
       "      <td>{'main': {'p': 2, 'nb': 1, 'rf': 60, 'stride':...</td>\n",
       "      <td>{'mean-projection-path': faa06614-a582-43ff-b4...</td>\n",
       "      <td>faa06614-a582-43ff-b4d3-16014dcc4fc4</td>\n",
       "      <td>NaN</td>\n",
       "      <td>NaN</td>\n",
       "      <td>NaN</td>\n",
       "      <td>opto</td>\n",
       "    </tr>\n",
       "  </tbody>\n",
       "</table>\n",
       "</div>"
      ],
      "text/plain": [
       "   index  algo                     name  \\\n",
       "0     59  cnmf  oit4-080721-ap1_1_pt_5a   \n",
       "\n",
       "                                    input_movie_path  \\\n",
       "0  9e7acfd3-e7e5-4c3a-a96d-2e1b586c0b58/9e7acfd3-...   \n",
       "\n",
       "                                              params  \\\n",
       "0  {'main': {'p': 2, 'nb': 1, 'rf': 60, 'stride':...   \n",
       "\n",
       "                                             outputs  \\\n",
       "0  {'mean-projection-path': faa06614-a582-43ff-b4...   \n",
       "\n",
       "                                   uuid animal_id session_id trial_df_path  \\\n",
       "0  faa06614-a582-43ff-b4d3-16014dcc4fc4       NaN        NaN           NaN   \n",
       "\n",
       "  exp-group  \n",
       "0      opto  "
      ]
     },
     "execution_count": 5,
     "metadata": {},
     "output_type": "execute_result"
    }
   ],
   "source": [
    "df = df.reset_index()\n",
    "df = df.drop(df.index[1:33])\n",
    "df"
   ]
  },
  {
   "cell_type": "code",
   "execution_count": 6,
   "id": "2670fc40-5229-4dc9-b13d-d49c8474581c",
   "metadata": {},
   "outputs": [
    {
     "data": {
      "application/vnd.jupyter.widget-view+json": {
       "model_id": "368ac1c297da43ff8bea2a19e0476275",
       "version_major": 2,
       "version_minor": 0
      },
      "text/plain": [
       "RFBOutputContext()"
      ]
     },
     "metadata": {},
     "output_type": "display_data"
    },
    {
     "name": "stderr",
     "output_type": "stream",
     "text": [
      "/home/clewis7/repos/mesmerize-viz/mesmerize_viz/cnmfviewer.py:85: FutureWarning: You are trying to use the following experimental feature, this maybe change in the future without warning:\n",
      "CaimanSeriesExtensions.get_input_movie\n",
      "\n",
      "\n",
      "  input=r.caiman.get_input_movie(),\n"
     ]
    }
   ],
   "source": [
    "cv = CNMFViewer(dataframe=df)\n",
    "sv = SelectViewer(cv, grid_shape=(2,3))\n",
    "dfv = DataframeViewer(cv, sv)"
   ]
  },
  {
   "cell_type": "code",
   "execution_count": 7,
   "id": "518d2c7a-1767-4cd7-92d4-4db5d1f3cf8f",
   "metadata": {},
   "outputs": [
    {
     "data": {
      "application/vnd.jupyter.widget-view+json": {
       "model_id": "c6640bb164524f91b53f541a6c42cee6",
       "version_major": 2,
       "version_minor": 0
      },
      "text/plain": [
       "Tab(children=(VBox(children=(HBox(children=(Select(layout=Layout(height='200px'), options=('0: 🟢 oit4-080721-a…"
      ]
     },
     "metadata": {},
     "output_type": "display_data"
    }
   ],
   "source": [
    "dfv.show()"
   ]
  },
  {
   "cell_type": "code",
   "execution_count": null,
   "id": "050a0b5b-9915-4fe4-af8b-9bb9abd8cecb",
   "metadata": {},
   "outputs": [],
   "source": []
  }
 ],
 "metadata": {
  "kernelspec": {
   "display_name": "Python 3 (ipykernel)",
   "language": "python",
   "name": "python3"
  },
  "language_info": {
   "codemirror_mode": {
    "name": "ipython",
    "version": 3
   },
   "file_extension": ".py",
   "mimetype": "text/x-python",
   "name": "python",
   "nbconvert_exporter": "python",
   "pygments_lexer": "ipython3",
   "version": "3.9.2"
  }
 },
 "nbformat": 4,
 "nbformat_minor": 5
}
